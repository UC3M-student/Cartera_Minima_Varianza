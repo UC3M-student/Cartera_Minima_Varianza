{
  "nbformat": 4,
  "nbformat_minor": 0,
  "metadata": {
    "colab": {
      "provenance": [],
      "history_visible": true
    },
    "kernelspec": {
      "name": "python3",
      "display_name": "Python 3"
    },
    "language_info": {
      "name": "python"
    }
  },
  "cells": [
    {
      "cell_type": "code",
      "execution_count": 30,
      "metadata": {
        "colab": {
          "base_uri": "https://localhost:8080/"
        },
        "id": "CIj0w3jp3zyb",
        "outputId": "79146460-7466-4418-c57f-ac676ddc51af"
      },
      "outputs": [
        {
          "output_type": "stream",
          "name": "stderr",
          "text": [
            "[*********************100%***********************]  97 of 97 completed\n",
            "ERROR:yfinance:\n",
            "2 Failed downloads:\n",
            "ERROR:yfinance:['SGEN', 'SPLK']: YFTzMissingError('$%ticker%: possibly delisted; no timezone found')\n"
          ]
        },
        {
          "output_type": "execute_result",
          "data": {
            "text/plain": [
              "matrix([[ 0.00489128, -0.00269623, -0.00308039, ...,  0.00859598,\n",
              "         -0.02967038, -0.00522346],\n",
              "        [ 0.01946917,  0.00405522, -0.00814599, ...,  0.0071023 ,\n",
              "          0.02038509,  0.00700122],\n",
              "        [ 0.01050418,  0.01869858,  0.00283202, ..., -0.01339919,\n",
              "          0.05438399, -0.00753193],\n",
              "        ...,\n",
              "        [-0.00675347, -0.01282102, -0.02014319, ..., -0.00302632,\n",
              "          0.01963361, -0.00344883],\n",
              "        [ 0.01457013,  0.01621655,  0.01637541, ...,  0.00447043,\n",
              "          0.00739182,  0.01170071],\n",
              "        [-0.00343789,  0.00839136,  0.0171077 , ...,  0.01043953,\n",
              "          0.00514849, -0.00260629]])"
            ]
          },
          "metadata": {},
          "execution_count": 30
        }
      ],
      "source": [
        "\n",
        "def get_yahoo_data_table_format(tickers_list, start_date, end_date, interval,data_to_excel_yes_or_no):\n",
        "\n",
        "  # LIBRARIES\n",
        "  import yfinance as yf # Get the data from Yahoo\n",
        "  import pandas as pd\n",
        "  import numpy as np\n",
        "\n",
        "  data = yf.download(tickers, start = start_date, end = end_date , interval = interval)['Close']\n",
        "\n",
        "  # Delete all timezones\n",
        "  data.index = data.index.tz_localize(None)\n",
        "\n",
        "  # Delete the columns with a missing vale\n",
        "  data = data.dropna(axis=1)\n",
        "\n",
        "  # If there is no data then arraise this error\n",
        "  if data.empty:\n",
        "    print(\"Warning: DataFrame is empty after dropping columns with missing values.\")\n",
        "    return data # Return empty DataFrame\n",
        "\n",
        "\n",
        "  # Convert data into a Matrix\n",
        "  data_matrix = np.matrix(data.to_numpy())\n",
        "\n",
        "  # - ly Returns data\n",
        "  data_matrix_returns = np.diff(data_matrix, axis=0) / data_matrix[:-1]\n",
        "\n",
        "\n",
        "  if data_to_excel_yes_or_no  == \"yes\":\n",
        "\n",
        "    # Convert data_matrix_returns back to a pandas DataFrame for to_excel\n",
        "    data_matrix_returns_df = pd.DataFrame(data_matrix_returns, columns=data.columns)\n",
        "\n",
        "    # Create an excel of the returs data\n",
        "    data_matrix_returns_df.to_excel(\"data_matrix_returns.xlsx\")\n",
        "\n",
        "\n",
        "  return data_matrix_returns\n",
        "\n",
        "\n",
        "tickers = [\n",
        "    'AAPL', 'MSFT', 'GOOGL', 'AMZN', 'NVDA', 'TSLA', 'META', 'PEP', 'AVGO', 'COST',\n",
        "    'ADBE', 'NFLX', 'TXN', 'INTC', 'QCOM', 'CSCO', 'AMD', 'AMGN', 'HON', 'INTU',\n",
        "    'AMAT', 'BKNG', 'SBUX', 'VRTX', 'MDLZ', 'GILD', 'ADP', 'ISRG', 'FISV', 'ADI',\n",
        "    'REGN', 'MRNA', 'LRCX', 'MU', 'ASML', 'SNPS', 'PANW', 'KLAC', 'CTAS', 'NXPI',\n",
        "    'CHTR', 'IDXX', 'CDNS', 'KDP', 'XEL', 'FTNT', 'CSX', 'MAR', 'MELI', 'WDAY',\n",
        "    'ORLY', 'AEP', 'MRVL', 'PAYX', 'TEAM', 'MNST', 'ODFL', 'ROST', 'PCAR', 'EXC',\n",
        "    'VRSK', 'CRWD', 'ABNB', 'LCID', 'AZN', 'WBD', 'SGEN', 'PDD', 'DDOG', 'ZM',\n",
        "    'DXCM', 'BKR', 'ZS', 'OKTA', 'BIIB', 'SPLK', 'FAST', 'CTSH', 'NTES', 'ANSS',\n",
        "    'EBAY', 'VRSN', 'LULU', 'ALGN', 'SWKS', 'CDW', 'CHKP', 'SIRI', 'MTCH', 'CPRT',\n",
        "    'TTWO', 'DLTR', 'FOXA', 'FOX', 'CEG', 'QRVO', 'INVH'\n",
        "]\n",
        "\n",
        "\n",
        "\n",
        "#start_date = \"2024-04-01\"\n",
        "#end_date = \"2024-08-31\"\n",
        "#interval = \"1wk\"\n",
        "\n",
        "# Pregunta CHATGPT: how to compute a portfolio that minimizes the tracking error subject to a benchmark portfolio in Python\n",
        "\n",
        "get_yahoo_data_table_format(tickers, \"2005-04-01\", \"2024-08-31\", \"1d\", \"no\" )\n",
        ""
      ]
    }
  ]
}